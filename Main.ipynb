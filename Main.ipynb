{
 "cells": [
  {
   "cell_type": "markdown",
   "id": "b07c09c8",
   "metadata": {},
   "source": [
    "# Dissecting Spotify's Valence\n",
    "Spotify uses a metric called **\"valence\"** to measure the happines of each track. This metric, however was developed from a company called \"EchoNest\", and not Spotify, and we do not know how exactly this metric is measured. In this notebook, i will attempt to:<br />\n",
    "1) understand which songs' audio features affect valence and which do not, and<br />\n",
    "2) predict the valence for a new dataset of songs with various machine learning models\n",
    "\n",
    "The data i will use come from 2 differnet sources:<br />\n",
    "1) **\"tracks.csv\"** (from: https://www.kaggle.com/lehaknarnauli/spotify-datasets) which contains aproximately 586,000 songs and their audio features<br />\n",
    "2) **\"spotify_ids.txt\"** (which contains approximately 1160 song id's). By connecting to Spotify's API, i will iteratively get all these songs ids' audio features, and use this dataset for out-of sample predictions.<br />\n",
    "\n",
    "For predictions, i will use the following methods: **Decision Tree**, **XGBoost**, **Beta Regression** and **K-Nearest Neighbors**.<br />\n",
    "<br />\n",
    "First, i will load the libraries that will be used"
   ]
  },
  {
   "cell_type": "code",
   "execution_count": 45,
   "id": "cdb2dff6",
   "metadata": {},
   "outputs": [],
   "source": [
    "# Importing the libraries i need\n",
    "import numpy as np \n",
    "import pandas as pd\n",
    "import seaborn as sns\n",
    "import time\n",
    "import matplotlib.pyplot as plt\n",
    "import statsmodels.api as sm\n",
    "import scipy.stats.stats as stats\n",
    "from statsmodels.stats.outliers_influence import variance_inflation_factor\n",
    "from statsmodels.tools.tools import add_constant\n",
    "import statsmodels.formula.api as smf\n",
    "from termcolor import cprint\n",
    "from sklearn.tree import DecisionTreeRegressor\n",
    "from sklearn.metrics import mean_absolute_error\n",
    "from sklearn.model_selection import train_test_split\n",
    "from sklearn.model_selection import GridSearchCV\n",
    "from sklearn.preprocessing import MinMaxScaler\n",
    "from sklearn.feature_selection import RFE\n",
    "from sklearn.feature_selection import SelectKBest\n",
    "from sklearn.feature_selection import f_regression\n",
    "from sklearn import neighbors\n",
    "from math import sqrt\n",
    "from xgboost import XGBRegressor\n",
    "import spotipy\n",
    "from spotipy.oauth2 import SpotifyClientCredentials\n",
    "\n",
    "%matplotlib inline"
   ]
  },
  {
   "cell_type": "markdown",
   "id": "f11cef9e",
   "metadata": {},
   "source": [
    "### Importing the dataset"
   ]
  },
  {
   "cell_type": "code",
   "execution_count": 46,
   "id": "4fe570b2",
   "metadata": {},
   "outputs": [],
   "source": [
    "# Importing the dataset \"tracks.csv\" i got from Kaggle\n",
    "data = pd.read_csv(\"tracks.csv\")"
   ]
  },
  {
   "cell_type": "markdown",
   "id": "81eaf953",
   "metadata": {},
   "source": [
    "### Checking the data"
   ]
  },
  {
   "cell_type": "code",
   "execution_count": 47,
   "id": "612830fb",
   "metadata": {},
   "outputs": [
    {
     "name": "stdout",
     "output_type": "stream",
     "text": [
      "\u001b[32mFirst 5 rows of 'data' dataset:\u001b[0m\n"
     ]
    },
    {
     "data": {
      "text/html": [
       "<div>\n",
       "<style scoped>\n",
       "    .dataframe tbody tr th:only-of-type {\n",
       "        vertical-align: middle;\n",
       "    }\n",
       "\n",
       "    .dataframe tbody tr th {\n",
       "        vertical-align: top;\n",
       "    }\n",
       "\n",
       "    .dataframe thead th {\n",
       "        text-align: right;\n",
       "    }\n",
       "</style>\n",
       "<table border=\"1\" class=\"dataframe\">\n",
       "  <thead>\n",
       "    <tr style=\"text-align: right;\">\n",
       "      <th></th>\n",
       "      <th>id</th>\n",
       "      <th>name</th>\n",
       "      <th>popularity</th>\n",
       "      <th>duration_ms</th>\n",
       "      <th>explicit</th>\n",
       "      <th>artists</th>\n",
       "      <th>id_artists</th>\n",
       "      <th>release_date</th>\n",
       "      <th>danceability</th>\n",
       "      <th>energy</th>\n",
       "      <th>key</th>\n",
       "      <th>loudness</th>\n",
       "      <th>mode</th>\n",
       "      <th>speechiness</th>\n",
       "      <th>acousticness</th>\n",
       "      <th>instrumentalness</th>\n",
       "      <th>liveness</th>\n",
       "      <th>valence</th>\n",
       "      <th>tempo</th>\n",
       "      <th>time_signature</th>\n",
       "    </tr>\n",
       "  </thead>\n",
       "  <tbody>\n",
       "    <tr>\n",
       "      <th>0</th>\n",
       "      <td>35iwgR4jXetI318WEWsa1Q</td>\n",
       "      <td>Carve</td>\n",
       "      <td>6</td>\n",
       "      <td>126903</td>\n",
       "      <td>0</td>\n",
       "      <td>['Uli']</td>\n",
       "      <td>['45tIt06XoI0Iio4LBEVpls']</td>\n",
       "      <td>1922-02-22</td>\n",
       "      <td>0.645</td>\n",
       "      <td>0.4450</td>\n",
       "      <td>0</td>\n",
       "      <td>-13.338</td>\n",
       "      <td>1</td>\n",
       "      <td>0.4510</td>\n",
       "      <td>0.674</td>\n",
       "      <td>0.7440</td>\n",
       "      <td>0.151</td>\n",
       "      <td>0.127</td>\n",
       "      <td>104.851</td>\n",
       "      <td>3</td>\n",
       "    </tr>\n",
       "    <tr>\n",
       "      <th>1</th>\n",
       "      <td>021ht4sdgPcrDgSk7JTbKY</td>\n",
       "      <td>Capítulo 2.16 - Banquero Anarquista</td>\n",
       "      <td>0</td>\n",
       "      <td>98200</td>\n",
       "      <td>0</td>\n",
       "      <td>['Fernando Pessoa']</td>\n",
       "      <td>['14jtPCOoNZwquk5wd9DxrY']</td>\n",
       "      <td>1922-06-01</td>\n",
       "      <td>0.695</td>\n",
       "      <td>0.2630</td>\n",
       "      <td>0</td>\n",
       "      <td>-22.136</td>\n",
       "      <td>1</td>\n",
       "      <td>0.9570</td>\n",
       "      <td>0.797</td>\n",
       "      <td>0.0000</td>\n",
       "      <td>0.148</td>\n",
       "      <td>0.655</td>\n",
       "      <td>102.009</td>\n",
       "      <td>1</td>\n",
       "    </tr>\n",
       "    <tr>\n",
       "      <th>2</th>\n",
       "      <td>07A5yehtSnoedViJAZkNnc</td>\n",
       "      <td>Vivo para Quererte - Remasterizado</td>\n",
       "      <td>0</td>\n",
       "      <td>181640</td>\n",
       "      <td>0</td>\n",
       "      <td>['Ignacio Corsini']</td>\n",
       "      <td>['5LiOoJbxVSAMkBS2fUm3X2']</td>\n",
       "      <td>1922-03-21</td>\n",
       "      <td>0.434</td>\n",
       "      <td>0.1770</td>\n",
       "      <td>1</td>\n",
       "      <td>-21.180</td>\n",
       "      <td>1</td>\n",
       "      <td>0.0512</td>\n",
       "      <td>0.994</td>\n",
       "      <td>0.0218</td>\n",
       "      <td>0.212</td>\n",
       "      <td>0.457</td>\n",
       "      <td>130.418</td>\n",
       "      <td>5</td>\n",
       "    </tr>\n",
       "    <tr>\n",
       "      <th>3</th>\n",
       "      <td>08FmqUhxtyLTn6pAh6bk45</td>\n",
       "      <td>El Prisionero - Remasterizado</td>\n",
       "      <td>0</td>\n",
       "      <td>176907</td>\n",
       "      <td>0</td>\n",
       "      <td>['Ignacio Corsini']</td>\n",
       "      <td>['5LiOoJbxVSAMkBS2fUm3X2']</td>\n",
       "      <td>1922-03-21</td>\n",
       "      <td>0.321</td>\n",
       "      <td>0.0946</td>\n",
       "      <td>7</td>\n",
       "      <td>-27.961</td>\n",
       "      <td>1</td>\n",
       "      <td>0.0504</td>\n",
       "      <td>0.995</td>\n",
       "      <td>0.9180</td>\n",
       "      <td>0.104</td>\n",
       "      <td>0.397</td>\n",
       "      <td>169.980</td>\n",
       "      <td>3</td>\n",
       "    </tr>\n",
       "    <tr>\n",
       "      <th>4</th>\n",
       "      <td>08y9GfoqCWfOGsKdwojr5e</td>\n",
       "      <td>Lady of the Evening</td>\n",
       "      <td>0</td>\n",
       "      <td>163080</td>\n",
       "      <td>0</td>\n",
       "      <td>['Dick Haymes']</td>\n",
       "      <td>['3BiJGZsyX9sJchTqcSA7Su']</td>\n",
       "      <td>1922</td>\n",
       "      <td>0.402</td>\n",
       "      <td>0.1580</td>\n",
       "      <td>3</td>\n",
       "      <td>-16.900</td>\n",
       "      <td>0</td>\n",
       "      <td>0.0390</td>\n",
       "      <td>0.989</td>\n",
       "      <td>0.1300</td>\n",
       "      <td>0.311</td>\n",
       "      <td>0.196</td>\n",
       "      <td>103.220</td>\n",
       "      <td>4</td>\n",
       "    </tr>\n",
       "  </tbody>\n",
       "</table>\n",
       "</div>"
      ],
      "text/plain": [
       "                       id                                 name  popularity  \\\n",
       "0  35iwgR4jXetI318WEWsa1Q                                Carve           6   \n",
       "1  021ht4sdgPcrDgSk7JTbKY  Capítulo 2.16 - Banquero Anarquista           0   \n",
       "2  07A5yehtSnoedViJAZkNnc   Vivo para Quererte - Remasterizado           0   \n",
       "3  08FmqUhxtyLTn6pAh6bk45        El Prisionero - Remasterizado           0   \n",
       "4  08y9GfoqCWfOGsKdwojr5e                  Lady of the Evening           0   \n",
       "\n",
       "   duration_ms  explicit              artists                  id_artists  \\\n",
       "0       126903         0              ['Uli']  ['45tIt06XoI0Iio4LBEVpls']   \n",
       "1        98200         0  ['Fernando Pessoa']  ['14jtPCOoNZwquk5wd9DxrY']   \n",
       "2       181640         0  ['Ignacio Corsini']  ['5LiOoJbxVSAMkBS2fUm3X2']   \n",
       "3       176907         0  ['Ignacio Corsini']  ['5LiOoJbxVSAMkBS2fUm3X2']   \n",
       "4       163080         0      ['Dick Haymes']  ['3BiJGZsyX9sJchTqcSA7Su']   \n",
       "\n",
       "  release_date  danceability  energy  key  loudness  mode  speechiness  \\\n",
       "0   1922-02-22         0.645  0.4450    0   -13.338     1       0.4510   \n",
       "1   1922-06-01         0.695  0.2630    0   -22.136     1       0.9570   \n",
       "2   1922-03-21         0.434  0.1770    1   -21.180     1       0.0512   \n",
       "3   1922-03-21         0.321  0.0946    7   -27.961     1       0.0504   \n",
       "4         1922         0.402  0.1580    3   -16.900     0       0.0390   \n",
       "\n",
       "   acousticness  instrumentalness  liveness  valence    tempo  time_signature  \n",
       "0         0.674            0.7440     0.151    0.127  104.851               3  \n",
       "1         0.797            0.0000     0.148    0.655  102.009               1  \n",
       "2         0.994            0.0218     0.212    0.457  130.418               5  \n",
       "3         0.995            0.9180     0.104    0.397  169.980               3  \n",
       "4         0.989            0.1300     0.311    0.196  103.220               4  "
      ]
     },
     "execution_count": 47,
     "metadata": {},
     "output_type": "execute_result"
    }
   ],
   "source": [
    "cprint(\"First 5 rows of 'data' dataset:\", \"green\")\n",
    "data.head()"
   ]
  },
  {
   "cell_type": "code",
   "execution_count": 48,
   "id": "7c1fac5f",
   "metadata": {},
   "outputs": [
    {
     "name": "stdout",
     "output_type": "stream",
     "text": [
      "\u001b[32mBasic Information for the 'data' dataset:\u001b[0m\n",
      "<class 'pandas.core.frame.DataFrame'>\n",
      "RangeIndex: 586672 entries, 0 to 586671\n",
      "Data columns (total 20 columns):\n",
      " #   Column            Non-Null Count   Dtype  \n",
      "---  ------            --------------   -----  \n",
      " 0   id                586672 non-null  object \n",
      " 1   name              586601 non-null  object \n",
      " 2   popularity        586672 non-null  int64  \n",
      " 3   duration_ms       586672 non-null  int64  \n",
      " 4   explicit          586672 non-null  int64  \n",
      " 5   artists           586672 non-null  object \n",
      " 6   id_artists        586672 non-null  object \n",
      " 7   release_date      586672 non-null  object \n",
      " 8   danceability      586672 non-null  float64\n",
      " 9   energy            586672 non-null  float64\n",
      " 10  key               586672 non-null  int64  \n",
      " 11  loudness          586672 non-null  float64\n",
      " 12  mode              586672 non-null  int64  \n",
      " 13  speechiness       586672 non-null  float64\n",
      " 14  acousticness      586672 non-null  float64\n",
      " 15  instrumentalness  586672 non-null  float64\n",
      " 16  liveness          586672 non-null  float64\n",
      " 17  valence           586672 non-null  float64\n",
      " 18  tempo             586672 non-null  float64\n",
      " 19  time_signature    586672 non-null  int64  \n",
      "dtypes: float64(9), int64(6), object(5)\n",
      "memory usage: 89.5+ MB\n",
      "\u001b[32mShape of 'data' dataset:\u001b[0m\n"
     ]
    },
    {
     "data": {
      "text/plain": [
       "(586672, 20)"
      ]
     },
     "execution_count": 48,
     "metadata": {},
     "output_type": "execute_result"
    }
   ],
   "source": [
    "cprint(\"Basic Information for the 'data' dataset:\", \"green\")\n",
    "data.info()\n",
    "cprint(\"Shape of 'data' dataset:\", \"green\")\n",
    "data.shape"
   ]
  },
  {
   "cell_type": "markdown",
   "id": "833121d8",
   "metadata": {},
   "source": [
    "As it can be seen, the dataset has **586672** rows and **20** columns.<br />\n",
    "Next, we can see some summary statistics about the dataset \"data\""
   ]
  },
  {
   "cell_type": "code",
   "execution_count": 49,
   "id": "fe3c95e3",
   "metadata": {},
   "outputs": [
    {
     "name": "stdout",
     "output_type": "stream",
     "text": [
      "\u001b[32mSummary statistics for 'data' dataset:\u001b[0m\n"
     ]
    },
    {
     "data": {
      "text/html": [
       "<div>\n",
       "<style scoped>\n",
       "    .dataframe tbody tr th:only-of-type {\n",
       "        vertical-align: middle;\n",
       "    }\n",
       "\n",
       "    .dataframe tbody tr th {\n",
       "        vertical-align: top;\n",
       "    }\n",
       "\n",
       "    .dataframe thead th {\n",
       "        text-align: right;\n",
       "    }\n",
       "</style>\n",
       "<table border=\"1\" class=\"dataframe\">\n",
       "  <thead>\n",
       "    <tr style=\"text-align: right;\">\n",
       "      <th></th>\n",
       "      <th>popularity</th>\n",
       "      <th>duration_ms</th>\n",
       "      <th>explicit</th>\n",
       "      <th>danceability</th>\n",
       "      <th>energy</th>\n",
       "      <th>key</th>\n",
       "      <th>loudness</th>\n",
       "      <th>mode</th>\n",
       "      <th>speechiness</th>\n",
       "      <th>acousticness</th>\n",
       "      <th>instrumentalness</th>\n",
       "      <th>liveness</th>\n",
       "      <th>valence</th>\n",
       "      <th>tempo</th>\n",
       "      <th>time_signature</th>\n",
       "    </tr>\n",
       "  </thead>\n",
       "  <tbody>\n",
       "    <tr>\n",
       "      <th>count</th>\n",
       "      <td>586672.000000</td>\n",
       "      <td>5.866720e+05</td>\n",
       "      <td>586672.000000</td>\n",
       "      <td>586672.000000</td>\n",
       "      <td>586672.000000</td>\n",
       "      <td>586672.000000</td>\n",
       "      <td>586672.000000</td>\n",
       "      <td>586672.000000</td>\n",
       "      <td>586672.000000</td>\n",
       "      <td>586672.000000</td>\n",
       "      <td>586672.000000</td>\n",
       "      <td>586672.000000</td>\n",
       "      <td>586672.000000</td>\n",
       "      <td>586672.000000</td>\n",
       "      <td>586672.000000</td>\n",
       "    </tr>\n",
       "    <tr>\n",
       "      <th>mean</th>\n",
       "      <td>27.570053</td>\n",
       "      <td>2.300512e+05</td>\n",
       "      <td>0.044086</td>\n",
       "      <td>0.563594</td>\n",
       "      <td>0.542036</td>\n",
       "      <td>5.221603</td>\n",
       "      <td>-10.206067</td>\n",
       "      <td>0.658797</td>\n",
       "      <td>0.104864</td>\n",
       "      <td>0.449863</td>\n",
       "      <td>0.113451</td>\n",
       "      <td>0.213935</td>\n",
       "      <td>0.552292</td>\n",
       "      <td>118.464857</td>\n",
       "      <td>3.873382</td>\n",
       "    </tr>\n",
       "    <tr>\n",
       "      <th>std</th>\n",
       "      <td>18.370642</td>\n",
       "      <td>1.265261e+05</td>\n",
       "      <td>0.205286</td>\n",
       "      <td>0.166103</td>\n",
       "      <td>0.251923</td>\n",
       "      <td>3.519423</td>\n",
       "      <td>5.089328</td>\n",
       "      <td>0.474114</td>\n",
       "      <td>0.179893</td>\n",
       "      <td>0.348837</td>\n",
       "      <td>0.266868</td>\n",
       "      <td>0.184326</td>\n",
       "      <td>0.257671</td>\n",
       "      <td>29.764108</td>\n",
       "      <td>0.473162</td>\n",
       "    </tr>\n",
       "    <tr>\n",
       "      <th>min</th>\n",
       "      <td>0.000000</td>\n",
       "      <td>3.344000e+03</td>\n",
       "      <td>0.000000</td>\n",
       "      <td>0.000000</td>\n",
       "      <td>0.000000</td>\n",
       "      <td>0.000000</td>\n",
       "      <td>-60.000000</td>\n",
       "      <td>0.000000</td>\n",
       "      <td>0.000000</td>\n",
       "      <td>0.000000</td>\n",
       "      <td>0.000000</td>\n",
       "      <td>0.000000</td>\n",
       "      <td>0.000000</td>\n",
       "      <td>0.000000</td>\n",
       "      <td>0.000000</td>\n",
       "    </tr>\n",
       "    <tr>\n",
       "      <th>25%</th>\n",
       "      <td>13.000000</td>\n",
       "      <td>1.750930e+05</td>\n",
       "      <td>0.000000</td>\n",
       "      <td>0.453000</td>\n",
       "      <td>0.343000</td>\n",
       "      <td>2.000000</td>\n",
       "      <td>-12.891000</td>\n",
       "      <td>0.000000</td>\n",
       "      <td>0.034000</td>\n",
       "      <td>0.096900</td>\n",
       "      <td>0.000000</td>\n",
       "      <td>0.098300</td>\n",
       "      <td>0.346000</td>\n",
       "      <td>95.600000</td>\n",
       "      <td>4.000000</td>\n",
       "    </tr>\n",
       "    <tr>\n",
       "      <th>50%</th>\n",
       "      <td>27.000000</td>\n",
       "      <td>2.148930e+05</td>\n",
       "      <td>0.000000</td>\n",
       "      <td>0.577000</td>\n",
       "      <td>0.549000</td>\n",
       "      <td>5.000000</td>\n",
       "      <td>-9.243000</td>\n",
       "      <td>1.000000</td>\n",
       "      <td>0.044300</td>\n",
       "      <td>0.422000</td>\n",
       "      <td>0.000024</td>\n",
       "      <td>0.139000</td>\n",
       "      <td>0.564000</td>\n",
       "      <td>117.384000</td>\n",
       "      <td>4.000000</td>\n",
       "    </tr>\n",
       "    <tr>\n",
       "      <th>75%</th>\n",
       "      <td>41.000000</td>\n",
       "      <td>2.638670e+05</td>\n",
       "      <td>0.000000</td>\n",
       "      <td>0.686000</td>\n",
       "      <td>0.748000</td>\n",
       "      <td>8.000000</td>\n",
       "      <td>-6.482000</td>\n",
       "      <td>1.000000</td>\n",
       "      <td>0.076300</td>\n",
       "      <td>0.785000</td>\n",
       "      <td>0.009550</td>\n",
       "      <td>0.278000</td>\n",
       "      <td>0.769000</td>\n",
       "      <td>136.321000</td>\n",
       "      <td>4.000000</td>\n",
       "    </tr>\n",
       "    <tr>\n",
       "      <th>max</th>\n",
       "      <td>100.000000</td>\n",
       "      <td>5.621218e+06</td>\n",
       "      <td>1.000000</td>\n",
       "      <td>0.991000</td>\n",
       "      <td>1.000000</td>\n",
       "      <td>11.000000</td>\n",
       "      <td>5.376000</td>\n",
       "      <td>1.000000</td>\n",
       "      <td>0.971000</td>\n",
       "      <td>0.996000</td>\n",
       "      <td>1.000000</td>\n",
       "      <td>1.000000</td>\n",
       "      <td>1.000000</td>\n",
       "      <td>246.381000</td>\n",
       "      <td>5.000000</td>\n",
       "    </tr>\n",
       "  </tbody>\n",
       "</table>\n",
       "</div>"
      ],
      "text/plain": [
       "          popularity   duration_ms       explicit   danceability  \\\n",
       "count  586672.000000  5.866720e+05  586672.000000  586672.000000   \n",
       "mean       27.570053  2.300512e+05       0.044086       0.563594   \n",
       "std        18.370642  1.265261e+05       0.205286       0.166103   \n",
       "min         0.000000  3.344000e+03       0.000000       0.000000   \n",
       "25%        13.000000  1.750930e+05       0.000000       0.453000   \n",
       "50%        27.000000  2.148930e+05       0.000000       0.577000   \n",
       "75%        41.000000  2.638670e+05       0.000000       0.686000   \n",
       "max       100.000000  5.621218e+06       1.000000       0.991000   \n",
       "\n",
       "              energy            key       loudness           mode  \\\n",
       "count  586672.000000  586672.000000  586672.000000  586672.000000   \n",
       "mean        0.542036       5.221603     -10.206067       0.658797   \n",
       "std         0.251923       3.519423       5.089328       0.474114   \n",
       "min         0.000000       0.000000     -60.000000       0.000000   \n",
       "25%         0.343000       2.000000     -12.891000       0.000000   \n",
       "50%         0.549000       5.000000      -9.243000       1.000000   \n",
       "75%         0.748000       8.000000      -6.482000       1.000000   \n",
       "max         1.000000      11.000000       5.376000       1.000000   \n",
       "\n",
       "         speechiness   acousticness  instrumentalness       liveness  \\\n",
       "count  586672.000000  586672.000000     586672.000000  586672.000000   \n",
       "mean        0.104864       0.449863          0.113451       0.213935   \n",
       "std         0.179893       0.348837          0.266868       0.184326   \n",
       "min         0.000000       0.000000          0.000000       0.000000   \n",
       "25%         0.034000       0.096900          0.000000       0.098300   \n",
       "50%         0.044300       0.422000          0.000024       0.139000   \n",
       "75%         0.076300       0.785000          0.009550       0.278000   \n",
       "max         0.971000       0.996000          1.000000       1.000000   \n",
       "\n",
       "             valence          tempo  time_signature  \n",
       "count  586672.000000  586672.000000   586672.000000  \n",
       "mean        0.552292     118.464857        3.873382  \n",
       "std         0.257671      29.764108        0.473162  \n",
       "min         0.000000       0.000000        0.000000  \n",
       "25%         0.346000      95.600000        4.000000  \n",
       "50%         0.564000     117.384000        4.000000  \n",
       "75%         0.769000     136.321000        4.000000  \n",
       "max         1.000000     246.381000        5.000000  "
      ]
     },
     "execution_count": 49,
     "metadata": {},
     "output_type": "execute_result"
    }
   ],
   "source": [
    "cprint(\"Summary statistics for 'data' dataset:\", \"green\")\n",
    "data.describe()"
   ]
  },
  {
   "cell_type": "markdown",
   "id": "0aab394d",
   "metadata": {},
   "source": [
    "We can observe here that variables \"explicit\", \"mode\", \"speechiness\", \"instrumentalness\", \"liveness\" and \"time_signature\" are quite unbalanced and assymetric, as their means and medians have a decent difference. These variables may decrease the quality of some model we will see later, as some models are greatly affected by imbalanced variables.\n",
    "<br />\n",
    "After that, i check for Null values in \"data\":"
   ]
  },
  {
   "cell_type": "code",
   "execution_count": 50,
   "id": "de4f6e11",
   "metadata": {},
   "outputs": [
    {
     "data": {
      "text/plain": [
       "id                   0\n",
       "name                71\n",
       "popularity           0\n",
       "duration_ms          0\n",
       "explicit             0\n",
       "artists              0\n",
       "id_artists           0\n",
       "release_date         0\n",
       "danceability         0\n",
       "energy               0\n",
       "key                  0\n",
       "loudness             0\n",
       "mode                 0\n",
       "speechiness          0\n",
       "acousticness         0\n",
       "instrumentalness     0\n",
       "liveness             0\n",
       "valence              0\n",
       "tempo                0\n",
       "time_signature       0\n",
       "dtype: int64"
      ]
     },
     "execution_count": 50,
     "metadata": {},
     "output_type": "execute_result"
    }
   ],
   "source": [
    "pd.isnull(data).sum()"
   ]
  },
  {
   "cell_type": "markdown",
   "id": "921517b2",
   "metadata": {},
   "source": [
    "We can se that the only variable with null values is the \"name\" variable. Since we won't use this variable, we ignore the existence of these missing values.<br />\n",
    "<br />\n",
    "### Exploring which Track Features Influence Valence\n",
    "Now, having taken a look in the \"data\" dataset, we can start exploring the variables. At first, i will make a **Correlation Heatmap between the variables** with **Pearson's Correlation Coefficient** . This coefficient will show us possible **linear** correlations between the variables.<br />\n",
    "Empirical rule for linear correlation scores of 2 variables:<br />\n",
    "**0.0** - **0.4** Non-existent or weak positive linear correlation<br />\n",
    "**0.4** - **0.7** Medium linear positive correlation<br />\n",
    "**0.7** - **1.0** Strong linear positive correlation<br />\n",
    "and<br />\n",
    " **0.0** - **-0.4** Non-existent or weak negative linear correlation<br />\n",
    "**-0.4** - **-0.7** Medium negative linear correlation<br />\n",
    "**-0.7** - **-1.0** Strong negative linear correlation"
   ]
  },
  {
   "cell_type": "code",
   "execution_count": 51,
   "id": "ccf7510d",
   "metadata": {},
   "outputs": [
    {
     "data": {
      "text/plain": [
       "[Text(0.5, 0, 'popularity'),\n",
       " Text(1.5, 0, 'duration_ms'),\n",
       " Text(2.5, 0, 'danceability'),\n",
       " Text(3.5, 0, 'energy'),\n",
       " Text(4.5, 0, 'key'),\n",
       " Text(5.5, 0, 'loudness'),\n",
       " Text(6.5, 0, 'speechiness'),\n",
       " Text(7.5, 0, 'acousticness'),\n",
       " Text(8.5, 0, 'instrumentalness'),\n",
       " Text(9.5, 0, 'liveness'),\n",
       " Text(10.5, 0, 'valence'),\n",
       " Text(11.5, 0, 'tempo'),\n",
       " Text(12.5, 0, 'time_signature')]"
      ]
     },
     "execution_count": 51,
     "metadata": {},
     "output_type": "execute_result"
    },
    {
     "data": {
      "image/png": "[encoded data removed]",
      "text/plain": [
       "<Figure size 1008x576 with 2 Axes>"
      ]
     },
     "metadata": {
      "needs_background": "light"
     },
     "output_type": "display_data"
    }
   ],
   "source": [
    "# Here we calculate the Pearson Coefficient that captures linear relationships\n",
    "corr_df=data.drop(['mode','explicit'], axis=1).corr(method='pearson')\n",
    "plt.figure(figsize=(14,8))\n",
    "heatmap=sns.heatmap(corr_df, annot=True, fmt='.1g')\n",
    "heatmap.set_title('Correlation Heatmap Between Variables (Pearson)')\n",
    "heatmap.set_xticklabels(heatmap.get_xticklabels(), rotation=90)"
   ]
  },
  {
   "cell_type": "markdown",
   "id": "ff99df81",
   "metadata": {},
   "source": [
    "As we can easily observe, \"valence\" seems to have a medium positive linear relationship with \"danceability\" and \"energy\", a weak linear positive relationship with \"loudness\" and a weak linear negative relationship with \"acousticness\" and \"instrumentalness\".<br />\n",
    "Another interesting relationship between variables, is the one between \"acousticness\" and \"energy\". These 2 have a strong negative linear relationship, indicating that they could be suspicious for multicollinearity.<br /> \n",
    "On more visible relationship is the one between \"acousticness\" and \"loudness\",which is medium negatively linear. It appears that \"acousticness\" must have a high probability of causing multicollinearity later in modelling.<br />\n",
    "\n",
    "Now,i will make a **Correlation Heatmap between the variables** with **Spearman's Correlation Coefficient** . This coefficient will show us possible **linear** and **non-linear** correlations between the variables.<br />"
   ]
  },
  {
   "cell_type": "code",
   "execution_count": 52,
   "id": "f1289492",
   "metadata": {},
   "outputs": [
    {
     "data": {
      "text/plain": [
       "[Text(0.5, 0, 'popularity'),\n",
       " Text(1.5, 0, 'duration_ms'),\n",
       " Text(2.5, 0, 'danceability'),\n",
       " Text(3.5, 0, 'energy'),\n",
       " Text(4.5, 0, 'key'),\n",
       " Text(5.5, 0, 'loudness'),\n",
       " Text(6.5, 0, 'speechiness'),\n",
       " Text(7.5, 0, 'acousticness'),\n",
       " Text(8.5, 0, 'instrumentalness'),\n",
       " Text(9.5, 0, 'liveness'),\n",
       " Text(10.5, 0, 'valence'),\n",
       " Text(11.5, 0, 'tempo'),\n",
       " Text(12.5, 0, 'time_signature')]"
      ]
     },
     "execution_count": 52,
     "metadata": {},
     "output_type": "execute_result"
    },
    {
     "data": {
      "image/png": "[encoded data removed]",
      "text/plain": [
       "<Figure size 1008x576 with 2 Axes>"
      ]
     },
     "metadata": {
      "needs_background": "light"
     },
     "output_type": "display_data"
    }
   ],
   "source": [
    "# Here we calculate the Spearman Coefficient that captures non-linear relationships too\n",
    "corr_df=data.drop(['mode','explicit'], axis=1).corr(method='spearman')\n",
    "plt.figure(figsize=(14,8))\n",
    "heatmap=sns.heatmap(corr_df, annot=True, fmt='.1g')\n",
    "heatmap.set_title('Correlation Heatmap Between Variables (Spearman)')\n",
    "heatmap.set_xticklabels(heatmap.get_xticklabels(), rotation=90)"
   ]
  },
  {
   "cell_type": "markdown",
   "id": "4018e96b",
   "metadata": {},
   "source": [
    "This correlation heatmap is similar to the one above, with the only difference that the previous one would use the Pearson Coefficient that can detect linear relationships, while this one uses the Spearmann coefficient that can capture non-linear relationships too. Also, it shares the same empirical rule with the previous heatmap<br /> \n",
    "By comparing them, we can see that there are no significant differences between them, so the second heatmap is not that useful, as there were no new important non-linear relationships discovered."
   ]
  },
  {
   "cell_type": "markdown",
   "id": "b4ff987a",
   "metadata": {},
   "source": [
    "### Generalized Linear Model\n",
    "As the response variable (\"valence\") can take values belonging to the range (0, 1), a simple Linear Regression Model is not suitable to model \"valence\", so i will use a **Generalized Linear Model**.<br /> \n",
    "More precisely, i will use **Beta Regression**, a regression suitable for modelling response variables that are percentages (meaning that they belong to the (0, 1) range).<br />\n",
    "To do this, i have to choose **family = \"Binomial\"** and as a link function the **\"logit\"** function."
   ]
  },
  {
   "cell_type": "code",
   "execution_count": 53,
   "id": "1ab00cc3",
   "metadata": {},
   "outputs": [],
   "source": [
    "y = data.valence\n",
    "x = data[[\"duration_ms\", \"danceability\", \"energy\", \"loudness\", \"speechiness\", \"acousticness\", \\\n",
    "            \"instrumentalness\", \"liveness\", \"tempo\", \"time_signature\"]]\n",
    "data_reg = pd.concat([y, x], axis=1)\n",
    "\n",
    "# By choosing to family = \"Binomial\" and logit function, we replicate a \"Beta Regression\", which is a regression\n",
    "# for response variables that are continuous and belong to the (0, 1) space. \n",
    "\n",
    "fit = smf.glm(formula='valence ~ duration_ms + danceability + energy + loudness + speechiness + acousticness \\\n",
    "            + instrumentalness + liveness + tempo + time_signature', \n",
    "              data=data_reg, \n",
    "              family=sm.families.Binomial(link=sm.families.links.logit())).fit() "
   ]
  },
  {
   "cell_type": "markdown",
   "id": "5d450f62",
   "metadata": {},
   "source": [
    "### Checking for Multicolinearity\n",
    "Now, i will check for multicolinearity between the independent variables (features). To do so, i construct a function named **\"compute_vif\"** that takes as inputs all the independent variables used in the model. Variables with scores >= 10, will be removed, and the model will be re-fitted with the the variables left."
   ]
  },
  {
   "cell_type": "code",
   "execution_count": 54,
   "id": "01372984",
   "metadata": {},
   "outputs": [],
   "source": [
    "def compute_vif(considered_features):\n",
    "    \n",
    "    '''This function takes as input all the independent variables used in GLM's fitting,\n",
    "    and calculates the variance inflation factor of each one of them.'''\n",
    "    \n",
    "    X = data[considered_features]\n",
    "    # calculation of variance inflation requires a constant\n",
    "    X['intercept'] = 1\n",
    "    \n",
    "    # creating a dataframe to store vif values\n",
    "    vif = pd.DataFrame()\n",
    "    vif[\"Variable\"] = X.columns\n",
    "    vif[\"VIF\"] = [variance_inflation_factor(X.values, i) for i in range(X.shape[1])]\n",
    "    vif = vif[vif['Variable']!='intercept']\n",
    "    return vif"
   ]
  },
  {
   "cell_type": "code",
   "execution_count": 55,
   "id": "37b56b00",
   "metadata": {},
   "outputs": [
    {
     "name": "stderr",
     "output_type": "stream",
     "text": [
      "<ipython-input-54-e7ff937e7752>:8: SettingWithCopyWarning: \n",
      "A value is trying to be set on a copy of a slice from a DataFrame.\n",
      "Try using .loc[row_indexer,col_indexer] = value instead\n",
      "\n",
      "See the caveats in the documentation: https://pandas.pydata.org/pandas-docs/stable/user_guide/indexing.html#returning-a-view-versus-a-copy\n",
      "  X['intercept'] = 1\n"
     ]
    },
    {
     "data": {
      "text/html": [
       "<div>\n",
       "<style scoped>\n",
       "    .dataframe tbody tr th:only-of-type {\n",
       "        vertical-align: middle;\n",
       "    }\n",
       "\n",
       "    .dataframe tbody tr th {\n",
       "        vertical-align: top;\n",
       "    }\n",
       "\n",
       "    .dataframe thead th {\n",
       "        text-align: right;\n",
       "    }\n",
       "</style>\n",
       "<table border=\"1\" class=\"dataframe\">\n",
       "  <thead>\n",
       "    <tr style=\"text-align: right;\">\n",
       "      <th></th>\n",
       "      <th>Variable</th>\n",
       "      <th>VIF</th>\n",
       "    </tr>\n",
       "  </thead>\n",
       "  <tbody>\n",
       "    <tr>\n",
       "      <th>0</th>\n",
       "      <td>duration_ms</td>\n",
       "      <td>1.039020</td>\n",
       "    </tr>\n",
       "    <tr>\n",
       "      <th>1</th>\n",
       "      <td>danceability</td>\n",
       "      <td>1.264082</td>\n",
       "    </tr>\n",
       "    <tr>\n",
       "      <th>2</th>\n",
       "      <td>energy</td>\n",
       "      <td>3.969678</td>\n",
       "    </tr>\n",
       "    <tr>\n",
       "      <th>3</th>\n",
       "      <td>loudness</td>\n",
       "      <td>2.867520</td>\n",
       "    </tr>\n",
       "    <tr>\n",
       "      <th>4</th>\n",
       "      <td>speechiness</td>\n",
       "      <td>1.239150</td>\n",
       "    </tr>\n",
       "    <tr>\n",
       "      <th>5</th>\n",
       "      <td>acousticness</td>\n",
       "      <td>2.169482</td>\n",
       "    </tr>\n",
       "    <tr>\n",
       "      <th>6</th>\n",
       "      <td>instrumentalness</td>\n",
       "      <td>1.210585</td>\n",
       "    </tr>\n",
       "    <tr>\n",
       "      <th>7</th>\n",
       "      <td>liveness</td>\n",
       "      <td>1.125676</td>\n",
       "    </tr>\n",
       "    <tr>\n",
       "      <th>8</th>\n",
       "      <td>tempo</td>\n",
       "      <td>1.077651</td>\n",
       "    </tr>\n",
       "    <tr>\n",
       "      <th>9</th>\n",
       "      <td>time_signature</td>\n",
       "      <td>1.070427</td>\n",
       "    </tr>\n",
       "  </tbody>\n",
       "</table>\n",
       "</div>"
      ],
      "text/plain": [
       "           Variable       VIF\n",
       "0       duration_ms  1.039020\n",
       "1      danceability  1.264082\n",
       "2            energy  3.969678\n",
       "3          loudness  2.867520\n",
       "4       speechiness  1.239150\n",
       "5      acousticness  2.169482\n",
       "6  instrumentalness  1.210585\n",
       "7          liveness  1.125676\n",
       "8             tempo  1.077651\n",
       "9    time_signature  1.070427"
      ]
     },
     "execution_count": 55,
     "metadata": {},
     "output_type": "execute_result"
    }
   ],
   "source": [
    "compute_vif([\"duration_ms\", \"danceability\", \"energy\", \"loudness\", \"speechiness\", \"acousticness\", \\\n",
    "            \"instrumentalness\", \"liveness\", \"tempo\", \"time_signature\"])"
   ]
  },
  {
   "cell_type": "markdown",
   "id": "48f8a7e3",
   "metadata": {},
   "source": [
    "Since no variable has a score greater than 10, we can assume that the independent variables do not exhibit multicollinearity and that these variables are indeed independent. That means that i will stick to the model that i made previously."
   ]
  },
  {
   "cell_type": "markdown",
   "id": "2aa82f35",
   "metadata": {},
   "source": [
    "### Goodness of fit tests \n",
    "Next step is to conduct goodness of fit tests to check the model's quality and then interpret it."
   ]
  },
  {
   "cell_type": "code",
   "execution_count": 56,
   "id": "086477af",
   "metadata": {},
   "outputs": [
    {
     "data": {
      "text/html": [
       "<table class=\"simpletable\">\n",
       "<tr>\n",
       "        <td>Model:</td>               <td>GLM</td>            <td>AIC:</td>        <td>532806.8065</td> \n",
       "</tr>\n",
       "<tr>\n",
       "    <td>Link Function:</td>          <td>logit</td>           <td>BIC:</td>       <td>-7682878.1999</td>\n",
       "</tr>\n",
       "<tr>\n",
       "  <td>Dependent Variable:</td>      <td>valence</td>     <td>Log-Likelihood:</td>  <td>-2.6639e+05</td> \n",
       "</tr>\n",
       "<tr>\n",
       "         <td>Date:</td>        <td>2022-03-06 14:43</td>    <td>LL-Null:</td>      <td>-3.0029e+05</td> \n",
       "</tr>\n",
       "<tr>\n",
       "   <td>No. Observations:</td>       <td>586672</td>         <td>Deviance:</td>     <td>1.0928e+05</td>  \n",
       "</tr>\n",
       "<tr>\n",
       "       <td>Df Model:</td>             <td>10</td>         <td>Pearson chi2:</td>    <td>1.06e+05</td>   \n",
       "</tr>\n",
       "<tr>\n",
       "     <td>Df Residuals:</td>         <td>586661</td>          <td>Scale:</td>         <td>1.0000</td>    \n",
       "</tr>\n",
       "<tr>\n",
       "        <td>Method:</td>             <td>IRLS</td>              <td></td>               <td></td>       \n",
       "</tr>\n",
       "</table>\n",
       "<table class=\"simpletable\">\n",
       "<tr>\n",
       "          <td></td>          <th>Coef.</th>  <th>Std.Err.</th>     <th>z</th>      <th>P>|z|</th> <th>[0.025</th>  <th>0.975]</th> \n",
       "</tr>\n",
       "<tr>\n",
       "  <th>Intercept</th>        <td>-4.0305</td>  <td>0.0371</td>  <td>-108.5942</td> <td>0.0000</td> <td>-4.1032</td> <td>-3.9577</td>\n",
       "</tr>\n",
       "<tr>\n",
       "  <th>duration_ms</th>      <td>-0.0000</td>  <td>0.0000</td>  <td>-42.5869</td>  <td>0.0000</td> <td>-0.0000</td> <td>-0.0000</td>\n",
       "</tr>\n",
       "<tr>\n",
       "  <th>danceability</th>     <td>3.4981</td>   <td>0.0197</td>  <td>177.2386</td>  <td>0.0000</td> <td>3.4594</td>  <td>3.5368</td> \n",
       "</tr>\n",
       "<tr>\n",
       "  <th>energy</th>           <td>2.4912</td>   <td>0.0226</td>  <td>110.4185</td>  <td>0.0000</td> <td>2.4470</td>  <td>2.5355</td> \n",
       "</tr>\n",
       "<tr>\n",
       "  <th>loudness</th>         <td>-0.0417</td>  <td>0.0009</td>  <td>-44.5108</td>  <td>0.0000</td> <td>-0.0436</td> <td>-0.0399</td>\n",
       "</tr>\n",
       "<tr>\n",
       "  <th>speechiness</th>      <td>-0.5966</td>  <td>0.0170</td>  <td>-35.1067</td>  <td>0.0000</td> <td>-0.6299</td> <td>-0.5632</td>\n",
       "</tr>\n",
       "<tr>\n",
       "  <th>acousticness</th>     <td>0.8964</td>   <td>0.0120</td>   <td>74.7753</td>  <td>0.0000</td> <td>0.8729</td>  <td>0.9199</td> \n",
       "</tr>\n",
       "<tr>\n",
       "  <th>instrumentalness</th> <td>-0.3066</td>  <td>0.0116</td>  <td>-26.5184</td>  <td>0.0000</td> <td>-0.3293</td> <td>-0.2840</td>\n",
       "</tr>\n",
       "<tr>\n",
       "  <th>liveness</th>         <td>0.0593</td>   <td>0.0160</td>   <td>3.7037</td>   <td>0.0002</td> <td>0.0279</td>  <td>0.0906</td> \n",
       "</tr>\n",
       "<tr>\n",
       "  <th>tempo</th>            <td>0.0042</td>   <td>0.0001</td>   <td>43.7931</td>  <td>0.0000</td> <td>0.0041</td>  <td>0.0044</td> \n",
       "</tr>\n",
       "<tr>\n",
       "  <th>time_signature</th>   <td>-0.0087</td>  <td>0.0061</td>   <td>-1.4232</td>  <td>0.1547</td> <td>-0.0208</td> <td>0.0033</td> \n",
       "</tr>\n",
       "</table>"
      ],
      "text/plain": [
       "<class 'statsmodels.iolib.summary2.Summary'>\n",
       "\"\"\"\n",
       "                Results: Generalized linear model\n",
       "==================================================================\n",
       "Model:              GLM              AIC:            532806.8065  \n",
       "Link Function:      logit            BIC:            -7682878.1999\n",
       "Dependent Variable: valence          Log-Likelihood: -2.6639e+05  \n",
       "Date:               2022-03-06 14:43 LL-Null:        -3.0029e+05  \n",
       "No. Observations:   586672           Deviance:       1.0928e+05   \n",
       "Df Model:           10               Pearson chi2:   1.06e+05     \n",
       "Df Residuals:       586661           Scale:          1.0000       \n",
       "Method:             IRLS                                          \n",
       "------------------------------------------------------------------\n",
       "                  Coef.  Std.Err.     z     P>|z|   [0.025  0.975]\n",
       "------------------------------------------------------------------\n",
       "Intercept        -4.0305   0.0371 -108.5942 0.0000 -4.1032 -3.9577\n",
       "duration_ms      -0.0000   0.0000  -42.5869 0.0000 -0.0000 -0.0000\n",
       "danceability      3.4981   0.0197  177.2386 0.0000  3.4594  3.5368\n",
       "energy            2.4912   0.0226  110.4185 0.0000  2.4470  2.5355\n",
       "loudness         -0.0417   0.0009  -44.5108 0.0000 -0.0436 -0.0399\n",
       "speechiness      -0.5966   0.0170  -35.1067 0.0000 -0.6299 -0.5632\n",
       "acousticness      0.8964   0.0120   74.7753 0.0000  0.8729  0.9199\n",
       "instrumentalness -0.3066   0.0116  -26.5184 0.0000 -0.3293 -0.2840\n",
       "liveness          0.0593   0.0160    3.7037 0.0002  0.0279  0.0906\n",
       "tempo             0.0042   0.0001   43.7931 0.0000  0.0041  0.0044\n",
       "time_signature   -0.0087   0.0061   -1.4232 0.1547 -0.0208  0.0033\n",
       "==================================================================\n",
       "\n",
       "\"\"\""
      ]
     },
     "execution_count": 56,
     "metadata": {},
     "output_type": "execute_result"
    }
   ],
   "source": [
    "fit.summary2() # \"Deviance\" to \"Df Residuals\" ratio: 0.1863"
   ]
  },
  {
   "cell_type": "code",
   "execution_count": 57,
   "id": "d9e925ab",
   "metadata": {},
   "outputs": [
    {
     "data": {
      "text/plain": [
       "0.186"
      ]
     },
     "execution_count": 57,
     "metadata": {},
     "output_type": "execute_result"
    }
   ],
   "source": [
    "# 1st Goodness of Fit test: Deviance to Df residuals ratio\n",
    "round(109280/586661, 3)"
   ]
  },
  {
   "cell_type": "markdown",
   "id": "f7ea5b85",
   "metadata": {},
   "source": [
    "The first Goodness of Fit measure is the ratio of Deviance to Degrees of Freedom Residuals. The closer this ratio is to 1, the better the model is. From the summary() function above, we take these 2 values and we can see that this ratio is equal to 0.186. That is quite far from 1, meaning that the model is not ideal."
   ]
  },
  {
   "cell_type": "code",
   "execution_count": 58,
   "id": "1c02e042",
   "metadata": {},
   "outputs": [
    {
     "data": {
      "text/plain": [
       "0.113"
      ]
     },
     "execution_count": 58,
     "metadata": {},
     "output_type": "execute_result"
    }
   ],
   "source": [
    "# 2nd Goodness of Fit test: Pseudo R-squared\n",
    "round(1 - fit.llf/fit.llnull, 3)"
   ]
  },
  {
   "cell_type": "markdown",
   "id": "9ee9fe6b",
   "metadata": {},
   "source": [
    "The second Goodness of Fit test is the pseudo R-squared. Since this model is not linear, we can not use the R-squared or the adjusted R-squared (in case we had multiple independent variables), so we will use one of the many pseudo R-squared. The models Pseudo R-squared value is equal to 11.3 %, meaning that the model explains 11.3% of the valence's variability. That is quite low, and it means that the model does not fit the data well."
   ]
  },
  {
   "cell_type": "markdown",
   "id": "8ef5244a",
   "metadata": {},
   "source": [
    "### Feature Selection\n",
    "To select better variables, i will use the SelectKBest method from sklearn with the \"f_regression\" method as a scoring function. The output of this method will be a dataframe including every feature and its score from \"f-regression\" scoring function. The higher the score, the more important is the influence of the feature in Valence."
   ]
  },
  {
   "cell_type": "code",
   "execution_count": 87,
   "id": "975bc2c7",
   "metadata": {},
   "outputs": [
    {
     "data": {
      "text/html": [
       "<div>\n",
       "<style scoped>\n",
       "    .dataframe tbody tr th:only-of-type {\n",
       "        vertical-align: middle;\n",
       "    }\n",
       "\n",
       "    .dataframe tbody tr th {\n",
       "        vertical-align: top;\n",
       "    }\n",
       "\n",
       "    .dataframe thead th {\n",
       "        text-align: right;\n",
       "    }\n",
       "</style>\n",
       "<table border=\"1\" class=\"dataframe\">\n",
       "  <thead>\n",
       "    <tr style=\"text-align: right;\">\n",
       "      <th></th>\n",
       "      <th>Feature</th>\n",
       "      <th>Score</th>\n",
       "    </tr>\n",
       "  </thead>\n",
       "  <tbody>\n",
       "    <tr>\n",
       "      <th>7</th>\n",
       "      <td>liveness</td>\n",
       "      <td>0.000688</td>\n",
       "    </tr>\n",
       "    <tr>\n",
       "      <th>4</th>\n",
       "      <td>speechiness</td>\n",
       "      <td>1271.337803</td>\n",
       "    </tr>\n",
       "    <tr>\n",
       "      <th>9</th>\n",
       "      <td>time_signature</td>\n",
       "      <td>6606.905868</td>\n",
       "    </tr>\n",
       "    <tr>\n",
       "      <th>8</th>\n",
       "      <td>tempo</td>\n",
       "      <td>10931.622474</td>\n",
       "    </tr>\n",
       "    <tr>\n",
       "      <th>0</th>\n",
       "      <td>duration_ms</td>\n",
       "      <td>16053.406757</td>\n",
       "    </tr>\n",
       "    <tr>\n",
       "      <th>6</th>\n",
       "      <td>instrumentalness</td>\n",
       "      <td>18583.887090</td>\n",
       "    </tr>\n",
       "    <tr>\n",
       "      <th>5</th>\n",
       "      <td>acousticness</td>\n",
       "      <td>19856.947251</td>\n",
       "    </tr>\n",
       "    <tr>\n",
       "      <th>3</th>\n",
       "      <td>loudness</td>\n",
       "      <td>48166.194790</td>\n",
       "    </tr>\n",
       "    <tr>\n",
       "      <th>2</th>\n",
       "      <td>energy</td>\n",
       "      <td>94387.523218</td>\n",
       "    </tr>\n",
       "    <tr>\n",
       "      <th>1</th>\n",
       "      <td>danceability</td>\n",
       "      <td>226954.127129</td>\n",
       "    </tr>\n",
       "  </tbody>\n",
       "</table>\n",
       "</div>"
      ],
      "text/plain": [
       "            Feature          Score\n",
       "7          liveness       0.000688\n",
       "4       speechiness    1271.337803\n",
       "9    time_signature    6606.905868\n",
       "8             tempo   10931.622474\n",
       "0       duration_ms   16053.406757\n",
       "6  instrumentalness   18583.887090\n",
       "5      acousticness   19856.947251\n",
       "3          loudness   48166.194790\n",
       "2            energy   94387.523218\n",
       "1      danceability  226954.127129"
      ]
     },
     "execution_count": 87,
     "metadata": {},
     "output_type": "execute_result"
    }
   ],
   "source": [
    "names = pd.DataFrame(x.columns)\n",
    "\n",
    "model = SelectKBest(score_func=f_regression, k=10)\n",
    "results = model.fit(x, y)\n",
    "results_df=pd.DataFrame(results.scores_)\n",
    "\n",
    "scored=pd.concat([names,results_df], axis=1)\n",
    "scored.columns = [\"Feature\", \"Score\"]\n",
    "scored.sort_values(by=['Score']) "
   ]
  },
  {
   "cell_type": "markdown",
   "id": "41bba1fd",
   "metadata": {},
   "source": [
    "I will randomly choose the first 5 features with the highest scores and i will fit another model."
   ]
  },
  {
   "cell_type": "markdown",
   "id": "d5df1e49",
   "metadata": {},
   "source": [
    "### Fitting a new model\n",
    "Now, we choose the first 5 variables (meaning the 5 highest scoring variables) and fit the model with them."
   ]
  },
  {
   "cell_type": "code",
   "execution_count": 60,
   "id": "8af19dfd",
   "metadata": {},
   "outputs": [],
   "source": [
    "fit2 = smf.glm(formula='valence ~ danceability + energy + loudness + acousticness \\\n",
    "            + instrumentalness', \n",
    "              data=data_reg, \n",
    "              family=sm.families.Binomial(link=sm.families.links.logit())).fit()"
   ]
  },
  {
   "cell_type": "code",
   "execution_count": 61,
   "id": "6d3e0a34",
   "metadata": {},
   "outputs": [
    {
     "data": {
      "text/html": [
       "<table class=\"simpletable\">\n",
       "<tr>\n",
       "        <td>Model:</td>               <td>GLM</td>            <td>AIC:</td>        <td>538046.1708</td> \n",
       "</tr>\n",
       "<tr>\n",
       "    <td>Link Function:</td>          <td>logit</td>           <td>BIC:</td>       <td>-7677695.2468</td>\n",
       "</tr>\n",
       "<tr>\n",
       "  <td>Dependent Variable:</td>      <td>valence</td>     <td>Log-Likelihood:</td>  <td>-2.6902e+05</td> \n",
       "</tr>\n",
       "<tr>\n",
       "         <td>Date:</td>        <td>2022-03-06 14:43</td>    <td>LL-Null:</td>      <td>-3.0029e+05</td> \n",
       "</tr>\n",
       "<tr>\n",
       "   <td>No. Observations:</td>       <td>586672</td>         <td>Deviance:</td>     <td>1.1453e+05</td>  \n",
       "</tr>\n",
       "<tr>\n",
       "       <td>Df Model:</td>              <td>5</td>         <td>Pearson chi2:</td>    <td>1.09e+05</td>   \n",
       "</tr>\n",
       "<tr>\n",
       "     <td>Df Residuals:</td>         <td>586666</td>          <td>Scale:</td>         <td>1.0000</td>    \n",
       "</tr>\n",
       "<tr>\n",
       "        <td>Method:</td>             <td>IRLS</td>              <td></td>               <td></td>       \n",
       "</tr>\n",
       "</table>\n",
       "<table class=\"simpletable\">\n",
       "<tr>\n",
       "          <td></td>          <th>Coef.</th>  <th>Std.Err.</th>     <th>z</th>      <th>P>|z|</th> <th>[0.025</th>  <th>0.975]</th> \n",
       "</tr>\n",
       "<tr>\n",
       "  <th>Intercept</th>        <td>-3.6700</td>  <td>0.0249</td>  <td>-147.5222</td> <td>0.0000</td> <td>-3.7188</td> <td>-3.6213</td>\n",
       "</tr>\n",
       "<tr>\n",
       "  <th>danceability</th>     <td>3.3184</td>   <td>0.0183</td>  <td>180.8885</td>  <td>0.0000</td> <td>3.2825</td>  <td>3.3544</td> \n",
       "</tr>\n",
       "<tr>\n",
       "  <th>energy</th>           <td>2.4616</td>   <td>0.0217</td>  <td>113.6522</td>  <td>0.0000</td> <td>2.4191</td>  <td>2.5040</td> \n",
       "</tr>\n",
       "<tr>\n",
       "  <th>loudness</th>         <td>-0.0320</td>  <td>0.0009</td>  <td>-35.7988</td>  <td>0.0000</td> <td>-0.0338</td> <td>-0.0303</td>\n",
       "</tr>\n",
       "<tr>\n",
       "  <th>acousticness</th>     <td>0.8771</td>   <td>0.0117</td>   <td>74.8112</td>  <td>0.0000</td> <td>0.8541</td>  <td>0.9000</td> \n",
       "</tr>\n",
       "<tr>\n",
       "  <th>instrumentalness</th> <td>-0.2732</td>  <td>0.0113</td>  <td>-24.1722</td>  <td>0.0000</td> <td>-0.2954</td> <td>-0.2511</td>\n",
       "</tr>\n",
       "</table>"
      ],
      "text/plain": [
       "<class 'statsmodels.iolib.summary2.Summary'>\n",
       "\"\"\"\n",
       "                Results: Generalized linear model\n",
       "==================================================================\n",
       "Model:              GLM              AIC:            538046.1708  \n",
       "Link Function:      logit            BIC:            -7677695.2468\n",
       "Dependent Variable: valence          Log-Likelihood: -2.6902e+05  \n",
       "Date:               2022-03-06 14:43 LL-Null:        -3.0029e+05  \n",
       "No. Observations:   586672           Deviance:       1.1453e+05   \n",
       "Df Model:           5                Pearson chi2:   1.09e+05     \n",
       "Df Residuals:       586666           Scale:          1.0000       \n",
       "Method:             IRLS                                          \n",
       "------------------------------------------------------------------\n",
       "                  Coef.  Std.Err.     z     P>|z|   [0.025  0.975]\n",
       "------------------------------------------------------------------\n",
       "Intercept        -3.6700   0.0249 -147.5222 0.0000 -3.7188 -3.6213\n",
       "danceability      3.3184   0.0183  180.8885 0.0000  3.2825  3.3544\n",
       "energy            2.4616   0.0217  113.6522 0.0000  2.4191  2.5040\n",
       "loudness         -0.0320   0.0009  -35.7988 0.0000 -0.0338 -0.0303\n",
       "acousticness      0.8771   0.0117   74.8112 0.0000  0.8541  0.9000\n",
       "instrumentalness -0.2732   0.0113  -24.1722 0.0000 -0.2954 -0.2511\n",
       "==================================================================\n",
       "\n",
       "\"\"\""
      ]
     },
     "execution_count": 61,
     "metadata": {},
     "output_type": "execute_result"
    }
   ],
   "source": [
    "fit2.summary2()"
   ]
  },
  {
   "cell_type": "markdown",
   "id": "0b8f3d71",
   "metadata": {},
   "source": [
    "### Goodnes of Fit test for the new model"
   ]
  },
  {
   "cell_type": "code",
   "execution_count": 62,
   "id": "b1e94726",
   "metadata": {},
   "outputs": [
    {
     "data": {
      "text/plain": [
       "0.195"
      ]
     },
     "execution_count": 62,
     "metadata": {},
     "output_type": "execute_result"
    }
   ],
   "source": [
    "# 1st Goodness of Fit test: Deviance to Df residuals ratio\n",
    "round(114500/586672, 3)"
   ]
  },
  {
   "cell_type": "markdown",
   "id": "e316fdae",
   "metadata": {},
   "source": [
    "The Deviance to Df Residuals ratio is slightly higher in this model than in the previous one (that had all the variables)"
   ]
  },
  {
   "cell_type": "code",
   "execution_count": 63,
   "id": "7152def7",
   "metadata": {},
   "outputs": [
    {
     "data": {
      "text/plain": [
       "0.104"
      ]
     },
     "execution_count": 63,
     "metadata": {},
     "output_type": "execute_result"
    }
   ],
   "source": [
    "# 2nd Goodness of Fit test: Pseudo R-squared\n",
    "round(1 - fit2.llf/fit2.llnull, 3)"
   ]
  },
  {
   "cell_type": "markdown",
   "id": "b3de19ae",
   "metadata": {},
   "source": [
    "As we can see, the second model has only 5 independent variables instead of 10 (like the first one).Also,it has sligthly higher Deviance to Df Residuals ratio but slightly lower pseudo R-squared. Since the new model is quite similar in terms of Goodness of Fit tests, i will choose it as the final one since it has only 5 independent variables, making it easier to understand and interpret."
   ]
  },
  {
   "cell_type": "markdown",
   "id": "46eb7618",
   "metadata": {},
   "source": [
    "Beta regression's formula looks like this:<br />\n",
    "logit($\\hat{y}_{i}) = \\hat{\\beta}_{0} + \\sum \\limits _{i=1} ^{p}\\hat{\\beta}_{i} $<br />\n",
    "and in our case, our model is the following:<br />\n",
    "logit($\\hat{valence}_{i}) = -3.67 + 3.31*\\hat{danceability} + 2.46*\\hat{energy} - 0.032*\\hat{loudness} + 0.87*\\hat{acousticness} - 0.27*\\hat{instrumentalness}. $<br />\n",
    "\n",
    "Every extra increase of one unit in the **danceability** increases the log odds by 3.31 and \n",
    "multiplies the actual odds by e^3.31 = 27,38, when all other dependent variables are \n",
    "stable. <br />\n",
    "\n",
    "Every extra increase of one unit in the **energy** increases the log odds by 2.46 and \n",
    "multiplies the actual odds by e^2.46 = 11,70, when all other dependent variables are \n",
    "stable. <br />\n",
    "\n",
    "Every extra increase of one unit in the **loudness** decreases the log odds by 0.032 and \n",
    "multiplies the actual odds by e^0.032 = 1.03, when all other dependent variables are \n",
    "stable. <br />\n",
    "\n",
    "Every extra increase of one unit in the **acousticness** increases the log odds by 0.87 and \n",
    "multiplies the actual odds by e^0.87 = 2,38, when all other dependent variables are \n",
    "stable. <br />\n",
    "\n",
    "Every extra increase of one unit in the **instrumentalness** decreases the log odds by 0.27 and \n",
    "multiplies the actual odds by e^0.27 = 1,30, when all other dependent variables are \n",
    "stable. <br />\n",
    "\n",
    "Overall, as we can see from both the above equation and the feature selection section above, that the variables tha affect valence the most, are **\"danceability\"**, **\"energy\"**, **\"loudness\"**, **\"acousticness\"**, **\"instrumentalness\"**, with **\"danceability\"** and **\"energy\"** having the most significant influence in the \"valence\" metric."
   ]
  },
  {
   "cell_type": "markdown",
   "id": "bda2429f",
   "metadata": {},
   "source": [
    "### Predicting Valence (Question 2.)\n",
    "Now, i will train some models with data from the Kaggle dataset, and i will use the second dataset in order to find out-of sample Mean Average Errors. In the end, for every model, i will compare **in-sample MAE's** and **out-of sample MAE's**, so i can pick a final model.<br />\n",
    "First, i must select the prediction target Y (valence) and the features. Even though i implemented feature selection already and ended up to 5 variables, i will now use all of them, as many models do feature selection by their own (e.g. Decision Trees and Random Forests).<br />\n",
    "Also, i split the data to **train data** (75% of the initial dataset) and **validation data** (25% of the initial dataset)"
   ]
  },
  {
   "cell_type": "code",
   "execution_count": 64,
   "id": "30b9b794",
   "metadata": {},
   "outputs": [],
   "source": [
    "######################################\n",
    "############ Question 2 ##############\n",
    "######################################\n",
    "\n",
    "# selecting the prediction target\n",
    "y = data.valence\n",
    "\n",
    "# Choosing the features\n",
    "feats = [\"duration_ms\", \"danceability\", \"energy\", \"loudness\", \"speechiness\", \"acousticness\",\n",
    "            \"instrumentalness\", \"liveness\", \"tempo\", \"time_signature\"] \n",
    "#feats = [\"danceability\", \"energy\", \"loudness\", \"acousticness\",\n",
    "#            \"instrumentalness\"]\n",
    "X = data[feats]\n",
    "\n",
    "# Spliting data to training data and validation data\n",
    "train_X, val_X, train_y, val_y = train_test_split(X, y, random_state = 1, test_size = 0.25)"
   ]
  },
  {
   "cell_type": "markdown",
   "id": "f557f35b",
   "metadata": {},
   "source": [
    "### K-Nearest Neighbors\n",
    "The first ML algorithm will be K-Nearest Neighbors. After testing manually this method's MAE result with and without Scaling, i ended up with Scaling the data for this algorithm as it gave me a better MAE (both in-sample and out-of sample). The scaling range is (0, 1)."
   ]
  },
  {
   "cell_type": "code",
   "execution_count": 65,
   "id": "c4877bdc",
   "metadata": {},
   "outputs": [],
   "source": [
    "scaler = MinMaxScaler(feature_range=(0, 1))\n",
    "\n",
    "x_train_scaled = scaler.fit_transform(train_X)\n",
    "x_train_sc = pd.DataFrame(x_train_scaled)\n",
    "\n",
    "x_test_scaled = scaler.fit_transform(val_X)\n",
    "x_test_sc = pd.DataFrame(x_test_scaled)"
   ]
  },
  {
   "cell_type": "markdown",
   "id": "aac8a19b",
   "metadata": {},
   "source": [
    "After scaling the data for this model, i will fit it with different K's to see for which K value we get the lowest in-sample MAE."
   ]
  },
  {
   "cell_type": "code",
   "execution_count": 66,
   "id": "243d8389",
   "metadata": {},
   "outputs": [
    {
     "name": "stdout",
     "output_type": "stream",
     "text": [
      "MAE value for K= 25 is: 0.148503\n",
      "MAE value for K= 26 is: 0.148485\n",
      "MAE value for K= 27 is: 0.148507\n",
      "MAE value for K= 28 is: 0.148531\n",
      "MAE value for K= 29 is: 0.148509\n",
      "MAE value for K= 30 is: 0.148521\n"
     ]
    }
   ],
   "source": [
    "mae_val = [] \n",
    "start_time = time.time()\n",
    "for K in range(24, 30):\n",
    "    K = K+1\n",
    "    model = neighbors.KNeighborsRegressor(n_neighbors = K)\n",
    "\n",
    "    model.fit(x_train_sc, train_y)  #fit the model\n",
    "    pred=model.predict(x_test_sc) # make prediction on test set\n",
    "    error = round(mean_absolute_error(val_y,pred), 6) \n",
    "    mae_val.append(error) \n",
    "    print('MAE value for K=' , K , 'is:', error)\n",
    "duration_knn = round((time.time() - start_time)/60, 2) "
   ]
  },
  {
   "cell_type": "markdown",
   "id": "481af924",
   "metadata": {},
   "source": [
    "Now, i will plot all these K values against their corresponding MAE."
   ]
  },
  {
   "cell_type": "code",
   "execution_count": 67,
   "id": "5dad95c3",
   "metadata": {},
   "outputs": [
    {
     "data": {
      "text/plain": [
       "Text(0, 0.5, 'Mean Average Error')"
      ]
     },
     "execution_count": 67,
     "metadata": {},
     "output_type": "execute_result"
    },
    {
     "data": {
      "image/png": "[encoded data removed]",
      "text/plain": [
       "<Figure size 720x432 with 1 Axes>"
      ]
     },
     "metadata": {
      "needs_background": "light"
     },
     "output_type": "display_data"
    }
   ],
   "source": [
    "curve = pd.DataFrame(mae_val) #elbow curve \n",
    "curve[\"K_value\"] = [25, 26, 27, 28, 29, 30]\n",
    "curve.columns = [\"MAE\", \"K_value\"]\n",
    "\n",
    "plt.figure(figsize=(10,6))\n",
    "plt.plot(curve[\"K_value\"], curve[\"MAE\"], color='blue', linestyle='dashed', marker='o',\n",
    "markerfacecolor='red', markersize=10)\n",
    "plt.title('Mean Average Error vs. K Value')\n",
    "plt.xlabel('K')\n",
    "plt.ylabel('Mean Average Error')"
   ]
  },
  {
   "cell_type": "markdown",
   "id": "2a0ea37d",
   "metadata": {},
   "source": [
    "It can be seen that the lowest MAE corresponds to K=26. After that, MAE gets higher again. To fit the K-NN model, i will use K=26. I also use GridSearchCV to fit so i can conduct some basic Hyperparameters Tuning"
   ]
  },
  {
   "cell_type": "code",
   "execution_count": 68,
   "id": "fb55548a",
   "metadata": {},
   "outputs": [],
   "source": [
    "K = 26\n",
    "spotify_knn_model = neighbors.KNeighborsRegressor(K)\n",
    "\n",
    "parameters = {\n",
    "              'weights':[\"uniform\", \"distance\"],\n",
    "              'p':[1, 2],\n",
    "              'leaf_size':[25, 30, 35]\n",
    "             }\n",
    "\n",
    "knn_grid = GridSearchCV(spotify_knn_model, \n",
    "                        parameters, \n",
    "                        cv = 2,\n",
    "                        n_jobs = -1) "
   ]
  },
  {
   "cell_type": "code",
   "execution_count": 69,
   "id": "284782e9",
   "metadata": {},
   "outputs": [
    {
     "name": "stdout",
     "output_type": "stream",
     "text": [
      "K Nearest Neighbors Tuning  0.44 minutes ---\n",
      "Best Parameters:  {'leaf_size': 30, 'p': 1, 'weights': 'distance'}\n",
      "Mean Absolute Error: 0.194\n"
     ]
    }
   ],
   "source": [
    "start_time = time.time()\n",
    "knn_grid.fit(train_X, train_y)\n",
    "duration_knn = round((time.time() - start_time)/60, 2)\n",
    "\n",
    "print(\"K Nearest Neighbors Tuning  %s minutes ---\" % + duration_knn)\n",
    "print(\"Best Parameters: \",knn_grid.best_params_)\n",
    "predictions_knn = knn_grid.predict(val_X)\n",
    "print(\"Mean Absolute Error: \" + str(round(mean_absolute_error(predictions_knn, val_y), 3)))"
   ]
  },
  {
   "cell_type": "markdown",
   "id": "55f32811",
   "metadata": {},
   "source": [
    "The **in-sample MAE** for K-NN is **0.194**, which is the worst so far. It must be noted that even though i found K value with scaled data, i decided to fit the model and predict with it using non-scaled data as it gave me the best out-of sample MAE."
   ]
  },
  {
   "cell_type": "markdown",
   "id": "f66575c0",
   "metadata": {},
   "source": [
    "### XGBoost\n",
    "The second model i will fit and use for predicting, is XGBoost. Again, i will use GridSearchCV for some basic Hyperparameters Tuning. Also, this model does not require any scaling."
   ]
  },
  {
   "cell_type": "code",
   "execution_count": 70,
   "id": "dc11e195",
   "metadata": {},
   "outputs": [],
   "source": [
    "spotify_xgboost_model = XGBRegressor() \n",
    "\n",
    "parameters = {\n",
    "              'eval_metric':['mae'],\n",
    "              'gamma':  [0, 0.2 ], \n",
    "              'max_depth': [6, 7, 8],\n",
    "              }\n",
    "\n",
    "xgb_grid = GridSearchCV(spotify_xgboost_model,\n",
    "                        parameters,\n",
    "                        cv = 2,\n",
    "                        verbose=False,\n",
    "                        n_jobs=-1   \n",
    "                        )"
   ]
  },
  {
   "cell_type": "code",
   "execution_count": 71,
   "id": "108d244b",
   "metadata": {},
   "outputs": [
    {
     "name": "stdout",
     "output_type": "stream",
     "text": [
      "XGBOOST HyperParameter Tuning  1.6 minutes ---\n",
      "Best Parameters:  {'eval_metric': 'mae', 'gamma': 0, 'max_depth': 7}\n",
      "Mean Absolute Error: 0.133\n"
     ]
    }
   ],
   "source": [
    "start_time = time.time()\n",
    "xgb_grid.fit(train_X, train_y)\n",
    "duration_xgb = round((time.time() - start_time)/60, 2)\n",
    "\n",
    "print(\"XGBOOST HyperParameter Tuning  %s minutes ---\" % + duration_xgb)\n",
    "print(\"Best Parameters: \", xgb_grid.best_params_)\n",
    "predictions_xgb = xgb_grid.predict(val_X)\n",
    "print(\"Mean Absolute Error: \" + str(round(mean_absolute_error(predictions_xgb, val_y), 3)))"
   ]
  },
  {
   "cell_type": "markdown",
   "id": "50884c63",
   "metadata": {},
   "source": [
    "XGBoost's **in-sample MAE** is **0.133** and it is the best in-sample MAE so far."
   ]
  },
  {
   "cell_type": "markdown",
   "id": "a1084d14",
   "metadata": {},
   "source": [
    "### Decision Tree\n",
    "The third model i will fit and use to predict Valence is the Decision Tree. This model is prone to overfitting, and as i have quite a few features, i expect it to have the highest difference between in-sample and out-of sample MAE between all models. Once again, i conduct some basic Hyperparameters Tuning with GridSearchCV."
   ]
  },
  {
   "cell_type": "code",
   "execution_count": 72,
   "id": "838f60e1",
   "metadata": {},
   "outputs": [],
   "source": [
    "spotify_tree_model = DecisionTreeRegressor()\n",
    "\n",
    "parameters = {\n",
    "              'ccp_alpha': [0, .001],\n",
    "              'max_depth' : [10, None],\n",
    "              'min_samples_leaf': [2, 3]\n",
    "             }\n",
    "\n",
    "tree_grid = GridSearchCV(spotify_tree_model,\n",
    "                        parameters,\n",
    "                        cv = 2,\n",
    "                        verbose=False,\n",
    "                        n_jobs=-1   \n",
    "                        )"
   ]
  },
  {
   "cell_type": "code",
   "execution_count": 73,
   "id": "e5ac8c49",
   "metadata": {},
   "outputs": [
    {
     "name": "stdout",
     "output_type": "stream",
     "text": [
      "Decision Tree HyperParameter Tuning  0.9 minutes ---\n",
      "Best Parameters:  {'ccp_alpha': 0, 'max_depth': 10, 'min_samples_leaf': 3}\n",
      "Mean Absolute Error: 0.149\n"
     ]
    }
   ],
   "source": [
    "start_time = time.time()\n",
    "tree_grid.fit(train_X, train_y)\n",
    "duration_tree = round((time.time() - start_time)/60, 2)\n",
    "\n",
    "print(\"Decision Tree HyperParameter Tuning  %s minutes ---\" % + duration_tree)\n",
    "print(\"Best Parameters: \", tree_grid.best_params_)\n",
    "predictions_tree = tree_grid.predict(val_X)\n",
    "print(\"Mean Absolute Error: \" + str(round(mean_absolute_error(predictions_tree, val_y), 3)))"
   ]
  },
  {
   "cell_type": "markdown",
   "id": "52650d14",
   "metadata": {},
   "source": [
    "The Decision Tree has an in-sample MAE equal to 0.149 which is average."
   ]
  },
  {
   "cell_type": "markdown",
   "id": "5dbde216",
   "metadata": {},
   "source": [
    "### Beta Regression\n",
    "The fourth and last model i will fit and use to predict Valence is Beta Regression. Here, i can not conduct Hyperparamaters Tuning. Here, i concatenate \"train_y\" and \"train_X\" into a dataframe named \"data_reg\" since the Python package i use for Beta Regression inputs data differently (not splitted as sklearn inputs them). It must be noted, that the Beta Regression i implemented previously had an explanatory character, so i did not included all variables. This Beta Regression though,has a predictive character so i will include all the variables."
   ]
  },
  {
   "cell_type": "code",
   "execution_count": 74,
   "id": "037640fe",
   "metadata": {},
   "outputs": [
    {
     "name": "stdout",
     "output_type": "stream",
     "text": [
      "Beta Regression HyperParameter Tuning  in minutes --- None\n",
      "Best Parameters:  None\n",
      "Mean Absolute Error: 0.16\n"
     ]
    }
   ],
   "source": [
    "data_reg = pd.concat([train_y, train_X], axis=1)\n",
    "\n",
    "\n",
    "fit = smf.glm(formula='valence ~ duration_ms + danceability + energy + loudness + speechiness + acousticness \\\n",
    "            + instrumentalness + liveness + tempo + time_signature', \n",
    "              data=data_reg, \n",
    "              family=sm.families.Binomial(link=sm.families.links.logit())).fit() #\n",
    "\n",
    "\n",
    "print(\"Beta Regression HyperParameter Tuning  in minutes ---\", None)\n",
    "print(\"Best Parameters: \", None)\n",
    "predictions_glm = fit.predict(val_X)\n",
    "print(\"Mean Absolute Error: \" + str(round(mean_absolute_error(predictions_glm, val_y), 3)))"
   ]
  },
  {
   "cell_type": "markdown",
   "id": "e5992da4",
   "metadata": {},
   "source": [
    "Beta Regression has an **in-sample MAE** of **0.16**, which is quite far from being the best so far."
   ]
  },
  {
   "cell_type": "markdown",
   "id": "5f4d4e80",
   "metadata": {},
   "source": [
    "### Connecting to Spotify's API to get validation data\n",
    "Now, i will use validation data to calculate the out-of sample MAE for each model. File **\"spotify_ids.txt\"** has approximately 1100 song id's but not their audio features. To get the audio features for each of these id's, i will have to use **\"Spotipy\"**, a wrapper package for Python that will connect us to Spotify's API. Iteratevily, i will get audio features for each song id."
   ]
  },
  {
   "cell_type": "code",
   "execution_count": 75,
   "id": "d20635f1",
   "metadata": {},
   "outputs": [],
   "source": [
    "# These credentials were not hidden because they are not valid anymore, so there is no need to store them in \n",
    "# a .py file.\n",
    "cid = '21dd07474d674210bcc4b16dd4a257f7'\n",
    "secret = 'e228fb85a102428fa3100d1559970c27'\n",
    "\n",
    "client_credentials_manager = SpotifyClientCredentials(client_id=cid, client_secret=secret)\n",
    "sp = spotipy.Spotify(client_credentials_manager = client_credentials_manager)"
   ]
  },
  {
   "cell_type": "markdown",
   "id": "46c73c86",
   "metadata": {},
   "source": [
    "Now, i read the \"spotify_ids.txt\" and name the only column it has."
   ]
  },
  {
   "cell_type": "code",
   "execution_count": 76,
   "id": "6cff6d6b",
   "metadata": {},
   "outputs": [],
   "source": [
    "dat = pd.read_csv(\"spotify_ids.txt\")\n",
    "dat.columns = [\"song_id\"]"
   ]
  },
  {
   "cell_type": "markdown",
   "id": "2029e8f2",
   "metadata": {},
   "source": [
    "Here i initialize an empty dictionary named \"features\", and a list named \"all_track_ids\" which contains all unique song id's from \"spotify_ids.txt\""
   ]
  },
  {
   "cell_type": "code",
   "execution_count": 77,
   "id": "48f0e7bf",
   "metadata": {},
   "outputs": [],
   "source": [
    "features = {}\n",
    "all_track_ids = list(dat['song_id'].unique())"
   ]
  },
  {
   "cell_type": "markdown",
   "id": "23357f7d",
   "metadata": {},
   "source": [
    "Since the unpaid version of Spotify API connection i use does not allow more than 100 songs per request, i iteratevily get 100 songs audio features batches per iteration."
   ]
  },
  {
   "cell_type": "code",
   "execution_count": 78,
   "id": "788e9bb4",
   "metadata": {},
   "outputs": [
    {
     "name": "stdout",
     "output_type": "stream",
     "text": [
      "getting from 0 to 100\n",
      "getting from 100 to 200\n",
      "getting from 200 to 300\n",
      "getting from 300 to 400\n",
      "getting from 400 to 500\n",
      "getting from 500 to 600\n",
      "getting from 600 to 700\n",
      "getting from 700 to 800\n",
      "getting from 800 to 900\n",
      "getting from 900 to 1000\n",
      "getting from 1000 to 1100\n",
      "getting from 1100 to 1200\n"
     ]
    }
   ],
   "source": [
    "start = 0\n",
    "num_tracks = 100\n",
    "while start < len(all_track_ids):\n",
    "    print(f'getting from {start} to {start+num_tracks}')\n",
    "    tracks_batch = all_track_ids[start:start+num_tracks]\n",
    "    features_batch = sp.audio_features(tracks_batch)\n",
    "    features.update({ track_id : track_features \n",
    "                     for track_id, track_features in zip(tracks_batch, features_batch) })\n",
    "    start += num_tracks"
   ]
  },
  {
   "cell_type": "markdown",
   "id": "9e5dd063",
   "metadata": {},
   "source": [
    "### Splitting the Validation Data and Calculating out-of Sample MAE's\n",
    "Now i convert the dictionary \"features\" to dataframe and split the data to X_valid and Y_valid"
   ]
  },
  {
   "cell_type": "code",
   "execution_count": 79,
   "id": "d8fcd169",
   "metadata": {},
   "outputs": [],
   "source": [
    "VD = pd.DataFrame.from_dict(features, orient='index').rename_axis('song_id').reset_index()\n",
    "\n",
    "X_valid = VD[feats]\n",
    "Y_valid = VD.valence"
   ]
  },
  {
   "cell_type": "code",
   "execution_count": 80,
   "id": "c5a9beac",
   "metadata": {},
   "outputs": [
    {
     "name": "stdout",
     "output_type": "stream",
     "text": [
      "Decision Tree:\n",
      "Mean Absolute Error: 0.1851\n"
     ]
    }
   ],
   "source": [
    "pred_val_tree = tree_grid.predict(X_valid)\n",
    "print(\"Decision Tree:\")\n",
    "print(\"Mean Absolute Error: \" + str(round(mean_absolute_error(pred_val_tree, Y_valid), 4)))"
   ]
  },
  {
   "cell_type": "code",
   "execution_count": 81,
   "id": "530d60a5",
   "metadata": {},
   "outputs": [
    {
     "name": "stdout",
     "output_type": "stream",
     "text": [
      "XGBoost:\n",
      "Mean Absolute Error: 0.1582\n"
     ]
    }
   ],
   "source": [
    "pred_val_xgb = xgb_grid.predict(X_valid)\n",
    "print(\"XGBoost:\")\n",
    "print(\"Mean Absolute Error: \" + str(round(mean_absolute_error(pred_val_xgb, Y_valid), 4)))"
   ]
  },
  {
   "cell_type": "code",
   "execution_count": 82,
   "id": "920af525",
   "metadata": {},
   "outputs": [
    {
     "name": "stdout",
     "output_type": "stream",
     "text": [
      "Knn:\n",
      "Mean Absolute Error: 0.129\n"
     ]
    }
   ],
   "source": [
    "pred_val_knn = knn_grid.predict(X_valid) \n",
    "print(\"Knn:\")\n",
    "print(\"Mean Absolute Error: \" + str(round(mean_absolute_error(pred_val_knn, Y_valid), 4)))"
   ]
  },
  {
   "cell_type": "code",
   "execution_count": 83,
   "id": "57dd98fd",
   "metadata": {},
   "outputs": [
    {
     "name": "stdout",
     "output_type": "stream",
     "text": [
      "Beta Regression:\n",
      "Mean Absolute Error: 0.1783\n"
     ]
    }
   ],
   "source": [
    "pred_val_glm = fit.predict(X_valid)\n",
    "print(\"Beta Regression:\")\n",
    "print(\"Mean Absolute Error: \" + str(round(mean_absolute_error(pred_val_glm, Y_valid), 4)))"
   ]
  },
  {
   "cell_type": "markdown",
   "id": "b0dfa794",
   "metadata": {},
   "source": [
    "To compare in-sample and out-of sample MAE's for every model better, i construct a dataframe that includes them all."
   ]
  },
  {
   "cell_type": "code",
   "execution_count": 84,
   "id": "be8055c1",
   "metadata": {},
   "outputs": [
    {
     "data": {
      "text/html": [
       "<div>\n",
       "<style scoped>\n",
       "    .dataframe tbody tr th:only-of-type {\n",
       "        vertical-align: middle;\n",
       "    }\n",
       "\n",
       "    .dataframe tbody tr th {\n",
       "        vertical-align: top;\n",
       "    }\n",
       "\n",
       "    .dataframe thead th {\n",
       "        text-align: right;\n",
       "    }\n",
       "</style>\n",
       "<table border=\"1\" class=\"dataframe\">\n",
       "  <thead>\n",
       "    <tr style=\"text-align: right;\">\n",
       "      <th></th>\n",
       "      <th>Model:</th>\n",
       "      <th>Param.Tuning Duration(mins):</th>\n",
       "      <th>in-sample MAE:</th>\n",
       "      <th>out-of-sample MAE:</th>\n",
       "    </tr>\n",
       "  </thead>\n",
       "  <tbody>\n",
       "    <tr>\n",
       "      <th>0</th>\n",
       "      <td>XGBoost</td>\n",
       "      <td>1.60</td>\n",
       "      <td>0.1334</td>\n",
       "      <td>0.1582</td>\n",
       "    </tr>\n",
       "    <tr>\n",
       "      <th>1</th>\n",
       "      <td>Decision Tree</td>\n",
       "      <td>0.90</td>\n",
       "      <td>0.1486</td>\n",
       "      <td>0.1851</td>\n",
       "    </tr>\n",
       "    <tr>\n",
       "      <th>2</th>\n",
       "      <td>Beta Regression</td>\n",
       "      <td>NaN</td>\n",
       "      <td>0.16</td>\n",
       "      <td>0.1783</td>\n",
       "    </tr>\n",
       "    <tr>\n",
       "      <th>3</th>\n",
       "      <td>K-Nearest Neighbor</td>\n",
       "      <td>0.44</td>\n",
       "      <td>0.1941</td>\n",
       "      <td>0.129</td>\n",
       "    </tr>\n",
       "  </tbody>\n",
       "</table>\n",
       "</div>"
      ],
      "text/plain": [
       "               Model:  Param.Tuning Duration(mins): in-sample MAE:  \\\n",
       "0             XGBoost                          1.60         0.1334   \n",
       "1       Decision Tree                          0.90         0.1486   \n",
       "2     Beta Regression                           NaN           0.16   \n",
       "3  K-Nearest Neighbor                          0.44         0.1941   \n",
       "\n",
       "  out-of-sample MAE:  \n",
       "0             0.1582  \n",
       "1             0.1851  \n",
       "2             0.1783  \n",
       "3              0.129  "
      ]
     },
     "execution_count": 84,
     "metadata": {},
     "output_type": "execute_result"
    }
   ],
   "source": [
    "models_summary = [\n",
    "['XGBoost', duration_xgb, str(round(mean_absolute_error(predictions_xgb, val_y), 4)),\\\n",
    " str(round(mean_absolute_error(pred_val_xgb, Y_valid), 4))], \n",
    "['Decision Tree', duration_tree, str(round(mean_absolute_error(predictions_tree, val_y), 4)),\\\n",
    " str(round(mean_absolute_error(pred_val_tree, Y_valid), 4))], \n",
    "['Beta Regression', None, str(round(mean_absolute_error(predictions_glm, val_y), 4)),\\\n",
    " str(round(mean_absolute_error(pred_val_glm, Y_valid), 4))],\n",
    "['K-Nearest Neighbor', duration_knn, str(round(mean_absolute_error(predictions_knn, val_y), 4))\\\n",
    " ,str(round(mean_absolute_error(pred_val_knn, Y_valid), 4))]\n",
    "]\n",
    "\n",
    "models_summary_df = pd.DataFrame(models_summary)\n",
    "models_summary_df.columns = ['Model:', 'Param.Tuning Duration(mins):', 'in-sample MAE:', 'out-of-sample MAE:']\n",
    "models_summary_df"
   ]
  },
  {
   "cell_type": "markdown",
   "id": "57325b9b",
   "metadata": {},
   "source": [
    "### Final Thoughts\n",
    "XGBoost and Beta Regression seem to be the models with the least difference (as a percentage) between in-sample MAE nad out-of sample MAE. We could say that these 2 models are not really overfitted, especially Beta Regression. XGBoost shows some signs of overfit, as it has an out-of sample MAE which is 15.6% higher than its in-sample MAE, but still it has the best in-sample MAE and the second best out-of sample MAE.<br />\n",
    "Beta Regression is the model that sees to be the least overfitted, but has poor performance both in in-sample and out-of sample MAE.<br />\n",
    "The Decision Tree, has an out-of sample MAE which is aproximately 20% larger than its in-sample MAE. We can say that the Decision Tree is overfitted, and its out-of sample is the worst out of all.<br />\n",
    "The K-NN Regressor has the highest in-sample MAE and the lowest out-of sample MAE. Their difference is the largest out of all the differences of the other models, and this is justified because i did not scaled the data i fitted in the model and the data i used for validation. K-NN algorithm is very sensitive in distances as it is a distance-based algorithm, and after research, i found out that not scaling the data used to it is not techically wrong but usually this method is avoided,and can sometimes lead to high discrepancies between in-sample MAE and out-of sample MAE. Nevertheless, it is the best model so far, in terms of predicting valence with these 1100 (approximately) songs, so i will keep it as the final model because it's MAE for new predictions is the lowest so far **(0.129)**"
   ]
  }
 ],
 "metadata": {
  "kernelspec": {
   "display_name": "Python 3",
   "language": "python",
   "name": "python3"
  },
  "language_info": {
   "codemirror_mode": {
    "name": "ipython",
    "version": 3
   },
   "file_extension": ".py",
   "mimetype": "text/x-python",
   "name": "python",
   "nbconvert_exporter": "python",
   "pygments_lexer": "ipython3",
   "version": "3.8.8"
  }
 },
 "nbformat": 4,
 "nbformat_minor": 5
}
